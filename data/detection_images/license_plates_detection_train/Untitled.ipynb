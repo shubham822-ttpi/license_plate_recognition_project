{
 "cells": [
  {
   "cell_type": "code",
   "execution_count": null,
   "id": "12967676-043d-4f3f-848d-cb7171a3cac4",
   "metadata": {},
   "outputs": [],
   "source": []
  }
 ],
 "metadata": {
  "kernelspec": {
   "display_name": "",
   "name": ""
  },
  "language_info": {
   "name": ""
  }
 },
 "nbformat": 4,
 "nbformat_minor": 5
}
