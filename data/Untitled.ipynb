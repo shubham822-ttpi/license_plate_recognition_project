{
 "cells": [
  {
   "cell_type": "code",
   "execution_count": 2,
   "id": "195c4b4c-ce07-4e97-9f38-1086fcbeb606",
   "metadata": {},
   "outputs": [
    {
     "name": "stdout",
     "output_type": "stream",
     "text": [
      "detection_images already extracted.\n",
      "recognition_images already extracted.\n",
      "Unzipped test.zip to ../data\\test_images\n"
     ]
    }
   ],
   "source": [
    "import os\n",
    "import zipfile\n",
    "\n",
    "# Define paths\n",
    "base_path = '../data'\n",
    "zips = {\n",
    "    'Licplatesdetection_train.zip': 'detection_images',\n",
    "    'Licplatesrecognition_train.zip': 'recognition_images',\n",
    "    'test.zip': 'test_images'\n",
    "}\n",
    "\n",
    "# Unzip each archive\n",
    "for zip_file, folder_name in zips.items():\n",
    "    zip_path = os.path.join(base_path, zip_file)\n",
    "    extract_path = os.path.join(base_path, folder_name)\n",
    "    if not os.path.exists(extract_path):\n",
    "        with zipfile.ZipFile(zip_path, 'r') as zip_ref:\n",
    "            zip_ref.extractall(extract_path)\n",
    "        print(f'Unzipped {zip_file} to {extract_path}')\n",
    "    else:\n",
    "        print(f'{folder_name} already extracted.')"
   ]
  },
  {
   "cell_type": "code",
   "execution_count": 3,
   "id": "0b1fc3f3-df90-412f-bc7c-2783b54b07f8",
   "metadata": {},
   "outputs": [
    {
     "name": "stdout",
     "output_type": "stream",
     "text": [
      "Detection CSV:\n"
     ]
    },
    {
     "data": {
      "text/html": [
       "<div>\n",
       "<style scoped>\n",
       "    .dataframe tbody tr th:only-of-type {\n",
       "        vertical-align: middle;\n",
       "    }\n",
       "\n",
       "    .dataframe tbody tr th {\n",
       "        vertical-align: top;\n",
       "    }\n",
       "\n",
       "    .dataframe thead th {\n",
       "        text-align: right;\n",
       "    }\n",
       "</style>\n",
       "<table border=\"1\" class=\"dataframe\">\n",
       "  <thead>\n",
       "    <tr style=\"text-align: right;\">\n",
       "      <th></th>\n",
       "      <th>img_id</th>\n",
       "      <th>ymin</th>\n",
       "      <th>xmin</th>\n",
       "      <th>ymax</th>\n",
       "      <th>xmax</th>\n",
       "    </tr>\n",
       "  </thead>\n",
       "  <tbody>\n",
       "    <tr>\n",
       "      <th>0</th>\n",
       "      <td>1.jpg</td>\n",
       "      <td>276</td>\n",
       "      <td>94</td>\n",
       "      <td>326</td>\n",
       "      <td>169</td>\n",
       "    </tr>\n",
       "    <tr>\n",
       "      <th>1</th>\n",
       "      <td>10.jpg</td>\n",
       "      <td>311</td>\n",
       "      <td>395</td>\n",
       "      <td>344</td>\n",
       "      <td>444</td>\n",
       "    </tr>\n",
       "    <tr>\n",
       "      <th>2</th>\n",
       "      <td>100.jpg</td>\n",
       "      <td>406</td>\n",
       "      <td>263</td>\n",
       "      <td>450</td>\n",
       "      <td>434</td>\n",
       "    </tr>\n",
       "    <tr>\n",
       "      <th>3</th>\n",
       "      <td>101.jpg</td>\n",
       "      <td>283</td>\n",
       "      <td>363</td>\n",
       "      <td>315</td>\n",
       "      <td>494</td>\n",
       "    </tr>\n",
       "    <tr>\n",
       "      <th>4</th>\n",
       "      <td>102.jpg</td>\n",
       "      <td>139</td>\n",
       "      <td>42</td>\n",
       "      <td>280</td>\n",
       "      <td>222</td>\n",
       "    </tr>\n",
       "  </tbody>\n",
       "</table>\n",
       "</div>"
      ],
      "text/plain": [
       "    img_id  ymin  xmin  ymax  xmax\n",
       "0    1.jpg   276    94   326   169\n",
       "1   10.jpg   311   395   344   444\n",
       "2  100.jpg   406   263   450   434\n",
       "3  101.jpg   283   363   315   494\n",
       "4  102.jpg   139    42   280   222"
      ]
     },
     "metadata": {},
     "output_type": "display_data"
    },
    {
     "name": "stdout",
     "output_type": "stream",
     "text": [
      "Recognition CSV:\n"
     ]
    },
    {
     "data": {
      "text/html": [
       "<div>\n",
       "<style scoped>\n",
       "    .dataframe tbody tr th:only-of-type {\n",
       "        vertical-align: middle;\n",
       "    }\n",
       "\n",
       "    .dataframe tbody tr th {\n",
       "        vertical-align: top;\n",
       "    }\n",
       "\n",
       "    .dataframe thead th {\n",
       "        text-align: right;\n",
       "    }\n",
       "</style>\n",
       "<table border=\"1\" class=\"dataframe\">\n",
       "  <thead>\n",
       "    <tr style=\"text-align: right;\">\n",
       "      <th></th>\n",
       "      <th>img_id</th>\n",
       "      <th>text</th>\n",
       "    </tr>\n",
       "  </thead>\n",
       "  <tbody>\n",
       "    <tr>\n",
       "      <th>0</th>\n",
       "      <td>0.jpg</td>\n",
       "      <td>117T3989</td>\n",
       "    </tr>\n",
       "    <tr>\n",
       "      <th>1</th>\n",
       "      <td>1.jpg</td>\n",
       "      <td>128T8086</td>\n",
       "    </tr>\n",
       "    <tr>\n",
       "      <th>2</th>\n",
       "      <td>10.jpg</td>\n",
       "      <td>94T3458</td>\n",
       "    </tr>\n",
       "    <tr>\n",
       "      <th>3</th>\n",
       "      <td>100.jpg</td>\n",
       "      <td>133T6719</td>\n",
       "    </tr>\n",
       "    <tr>\n",
       "      <th>4</th>\n",
       "      <td>101.jpg</td>\n",
       "      <td>68T5979</td>\n",
       "    </tr>\n",
       "  </tbody>\n",
       "</table>\n",
       "</div>"
      ],
      "text/plain": [
       "    img_id      text\n",
       "0    0.jpg  117T3989\n",
       "1    1.jpg  128T8086\n",
       "2   10.jpg   94T3458\n",
       "3  100.jpg  133T6719\n",
       "4  101.jpg   68T5979"
      ]
     },
     "metadata": {},
     "output_type": "display_data"
    }
   ],
   "source": [
    "import pandas as pd\n",
    "\n",
    "# Paths to CSVs\n",
    "detection_csv_path = '../data/Licplatesdetection_train.csv'\n",
    "recognition_csv_path = '../data/Licplatesrecognition_train.csv'\n",
    "\n",
    "# Load CSVs\n",
    "df_detection = pd.read_csv(detection_csv_path)\n",
    "df_recognition = pd.read_csv(recognition_csv_path)\n",
    "\n",
    "# Show some samples\n",
    "print(\"Detection CSV:\")\n",
    "display(df_detection.head())\n",
    "\n",
    "print(\"Recognition CSV:\")\n",
    "display(df_recognition.head())"
   ]
  },
  {
   "cell_type": "code",
   "execution_count": 6,
   "id": "b392d108-f19b-4e48-98ac-d058b3eb2620",
   "metadata": {},
   "outputs": [
    {
     "name": "stdout",
     "output_type": "stream",
     "text": [
      "Collecting opencv-python\n",
      "  Downloading opencv_python-4.12.0.88-cp37-abi3-win_amd64.whl.metadata (19 kB)\n",
      "Collecting numpy<2.3.0,>=2 (from opencv-python)\n",
      "  Downloading numpy-2.2.6-cp312-cp312-win_amd64.whl.metadata (60 kB)\n",
      "Downloading opencv_python-4.12.0.88-cp37-abi3-win_amd64.whl (39.0 MB)\n",
      "   ---------------------------------------- 0.0/39.0 MB ? eta -:--:--\n",
      "   --- ------------------------------------ 3.7/39.0 MB 24.3 MB/s eta 0:00:02\n",
      "   ---- ----------------------------------- 4.7/39.0 MB 13.6 MB/s eta 0:00:03\n",
      "   ----- ---------------------------------- 5.8/39.0 MB 10.4 MB/s eta 0:00:04\n",
      "   ------ --------------------------------- 6.8/39.0 MB 8.6 MB/s eta 0:00:04\n",
      "   -------- ------------------------------- 7.9/39.0 MB 8.0 MB/s eta 0:00:04\n",
      "   -------- ------------------------------- 8.4/39.0 MB 7.1 MB/s eta 0:00:05\n",
      "   -------- ------------------------------- 8.7/39.0 MB 6.0 MB/s eta 0:00:06\n",
      "   --------- ------------------------------ 8.9/39.0 MB 5.4 MB/s eta 0:00:06\n",
      "   --------- ------------------------------ 9.2/39.0 MB 5.0 MB/s eta 0:00:06\n",
      "   --------- ------------------------------ 9.4/39.0 MB 4.7 MB/s eta 0:00:07\n",
      "   ---------- ----------------------------- 10.0/39.0 MB 4.4 MB/s eta 0:00:07\n",
      "   ---------- ----------------------------- 10.2/39.0 MB 4.2 MB/s eta 0:00:07\n",
      "   ----------- ---------------------------- 10.7/39.0 MB 4.1 MB/s eta 0:00:07\n",
      "   ----------- ---------------------------- 11.5/39.0 MB 3.9 MB/s eta 0:00:07\n",
      "   ------------ --------------------------- 12.1/39.0 MB 3.9 MB/s eta 0:00:07\n",
      "   ------------- -------------------------- 12.8/39.0 MB 3.8 MB/s eta 0:00:07\n",
      "   ------------- -------------------------- 13.4/39.0 MB 3.8 MB/s eta 0:00:07\n",
      "   -------------- ------------------------- 14.2/39.0 MB 3.8 MB/s eta 0:00:07\n",
      "   --------------- ------------------------ 15.2/39.0 MB 3.8 MB/s eta 0:00:07\n",
      "   ---------------- ----------------------- 16.0/39.0 MB 3.8 MB/s eta 0:00:06\n",
      "   ----------------- ---------------------- 16.8/39.0 MB 3.9 MB/s eta 0:00:06\n",
      "   ------------------ --------------------- 17.8/39.0 MB 3.9 MB/s eta 0:00:06\n",
      "   ------------------- -------------------- 18.9/39.0 MB 4.0 MB/s eta 0:00:06\n",
      "   -------------------- ------------------- 19.9/39.0 MB 4.0 MB/s eta 0:00:05\n",
      "   --------------------- ------------------ 21.2/39.0 MB 4.1 MB/s eta 0:00:05\n",
      "   ---------------------- ----------------- 22.3/39.0 MB 4.1 MB/s eta 0:00:05\n",
      "   ------------------------ --------------- 23.6/39.0 MB 4.2 MB/s eta 0:00:04\n",
      "   ------------------------- -------------- 24.9/39.0 MB 4.3 MB/s eta 0:00:04\n",
      "   -------------------------- ------------- 26.2/39.0 MB 4.4 MB/s eta 0:00:03\n",
      "   ---------------------------- ----------- 27.8/39.0 MB 4.4 MB/s eta 0:00:03\n",
      "   ----------------------------- ---------- 29.1/39.0 MB 4.5 MB/s eta 0:00:03\n",
      "   ------------------------------ --------- 30.1/39.0 MB 4.5 MB/s eta 0:00:02\n",
      "   ------------------------------- -------- 30.7/39.0 MB 4.5 MB/s eta 0:00:02\n",
      "   ------------------------------- -------- 31.2/39.0 MB 4.4 MB/s eta 0:00:02\n",
      "   -------------------------------- ------- 31.5/39.0 MB 4.4 MB/s eta 0:00:02\n",
      "   --------------------------------- ------ 32.2/39.0 MB 4.3 MB/s eta 0:00:02\n",
      "   --------------------------------- ------ 32.8/39.0 MB 4.3 MB/s eta 0:00:02\n",
      "   ---------------------------------- ----- 33.3/39.0 MB 4.2 MB/s eta 0:00:02\n",
      "   ---------------------------------- ----- 34.1/39.0 MB 4.2 MB/s eta 0:00:02\n",
      "   ----------------------------------- ---- 34.9/39.0 MB 4.2 MB/s eta 0:00:01\n",
      "   ------------------------------------ --- 35.7/39.0 MB 4.2 MB/s eta 0:00:01\n",
      "   ------------------------------------- -- 36.4/39.0 MB 4.2 MB/s eta 0:00:01\n",
      "   -------------------------------------- - 37.5/39.0 MB 4.2 MB/s eta 0:00:01\n",
      "   ---------------------------------------  38.3/39.0 MB 4.2 MB/s eta 0:00:01\n",
      "   ---------------------------------------  38.8/39.0 MB 4.2 MB/s eta 0:00:01\n",
      "   ---------------------------------------- 39.0/39.0 MB 4.1 MB/s eta 0:00:00\n",
      "Downloading numpy-2.2.6-cp312-cp312-win_amd64.whl (12.6 MB)\n",
      "   ---------------------------------------- 0.0/12.6 MB ? eta -:--:--\n",
      "   --- ------------------------------------ 1.0/12.6 MB 5.0 MB/s eta 0:00:03\n",
      "   ------ --------------------------------- 2.1/12.6 MB 5.1 MB/s eta 0:00:03\n",
      "   ---------- ----------------------------- 3.4/12.6 MB 5.2 MB/s eta 0:00:02\n",
      "   -------------- ------------------------- 4.7/12.6 MB 5.4 MB/s eta 0:00:02\n",
      "   ------------------- -------------------- 6.0/12.6 MB 5.5 MB/s eta 0:00:02\n",
      "   ----------------------- ---------------- 7.3/12.6 MB 5.7 MB/s eta 0:00:01\n",
      "   --------------------------- ------------ 8.7/12.6 MB 5.8 MB/s eta 0:00:01\n",
      "   ------------------------------- -------- 10.0/12.6 MB 5.9 MB/s eta 0:00:01\n",
      "   ----------------------------------- ---- 11.3/12.6 MB 6.0 MB/s eta 0:00:01\n",
      "   -------------------------------------- - 12.1/12.6 MB 5.7 MB/s eta 0:00:01\n",
      "   ---------------------------------------- 12.6/12.6 MB 5.4 MB/s eta 0:00:00\n",
      "Installing collected packages: numpy, opencv-python\n",
      "  Attempting uninstall: numpy\n",
      "    Found existing installation: numpy 1.26.4\n",
      "    Uninstalling numpy-1.26.4:\n",
      "      Successfully uninstalled numpy-1.26.4\n",
      "Successfully installed numpy-2.2.6 opencv-python-4.12.0.88\n"
     ]
    },
    {
     "name": "stderr",
     "output_type": "stream",
     "text": [
      "ERROR: pip's dependency resolver does not currently take into account all the packages that are installed. This behaviour is the source of the following dependency conflicts.\n",
      "contourpy 1.2.0 requires numpy<2.0,>=1.20, but you have numpy 2.2.6 which is incompatible.\n",
      "gensim 4.3.3 requires numpy<2.0,>=1.18.5, but you have numpy 2.2.6 which is incompatible.\n",
      "numba 0.60.0 requires numpy<2.1,>=1.22, but you have numpy 2.2.6 which is incompatible.\n"
     ]
    }
   ],
   "source": [
    "!pip install opencv-python"
   ]
  },
  {
   "cell_type": "code",
   "execution_count": 8,
   "id": "e48a738c-c466-4ad8-8736-56c84ee669bb",
   "metadata": {},
   "outputs": [
    {
     "name": "stdout",
     "output_type": "stream",
     "text": [
      "Collecting numpy==1.24.3\n",
      "  Downloading numpy-1.24.3.tar.gz (10.9 MB)\n",
      "     ---------------------------------------- 0.0/10.9 MB ? eta -:--:--\n",
      "     ----------- ---------------------------- 3.1/10.9 MB 26.5 MB/s eta 0:00:01\n",
      "     ---------------- ----------------------- 4.5/10.9 MB 13.4 MB/s eta 0:00:01\n",
      "     -------------------- ------------------- 5.5/10.9 MB 10.2 MB/s eta 0:00:01\n",
      "     ----------------------- ---------------- 6.3/10.9 MB 9.0 MB/s eta 0:00:01\n",
      "     ---------------------------- ----------- 7.9/10.9 MB 7.7 MB/s eta 0:00:01\n",
      "     -------------------------------- ------- 8.9/10.9 MB 7.4 MB/s eta 0:00:01\n",
      "     ----------------------------------- ---- 9.7/10.9 MB 6.9 MB/s eta 0:00:01\n",
      "     ------------------------------------- -- 10.2/10.9 MB 6.3 MB/s eta 0:00:01\n",
      "     ---------------------------------------  10.7/10.9 MB 5.8 MB/s eta 0:00:01\n",
      "     ---------------------------------------- 10.9/10.9 MB 5.6 MB/s eta 0:00:00\n",
      "  Installing build dependencies: started\n",
      "  Installing build dependencies: finished with status 'done'\n",
      "  Getting requirements to build wheel: started\n",
      "  Getting requirements to build wheel: finished with status 'error'\n"
     ]
    },
    {
     "name": "stderr",
     "output_type": "stream",
     "text": [
      "  error: subprocess-exited-with-error\n",
      "  \n",
      "  Getting requirements to build wheel did not run successfully.\n",
      "  exit code: 1\n",
      "  \n",
      "  [33 lines of output]\n",
      "  Traceback (most recent call last):\n",
      "    File \"C:\\Users\\shubh\\anaconda3\\Lib\\site-packages\\pip\\_vendor\\pyproject_hooks\\_in_process\\_in_process.py\", line 353, in <module>\n",
      "      main()\n",
      "    File \"C:\\Users\\shubh\\anaconda3\\Lib\\site-packages\\pip\\_vendor\\pyproject_hooks\\_in_process\\_in_process.py\", line 335, in main\n",
      "      json_out['return_val'] = hook(**hook_input['kwargs'])\n",
      "                               ^^^^^^^^^^^^^^^^^^^^^^^^^^^^\n",
      "    File \"C:\\Users\\shubh\\anaconda3\\Lib\\site-packages\\pip\\_vendor\\pyproject_hooks\\_in_process\\_in_process.py\", line 112, in get_requires_for_build_wheel\n",
      "      backend = _build_backend()\n",
      "                ^^^^^^^^^^^^^^^^\n",
      "    File \"C:\\Users\\shubh\\anaconda3\\Lib\\site-packages\\pip\\_vendor\\pyproject_hooks\\_in_process\\_in_process.py\", line 77, in _build_backend\n",
      "      obj = import_module(mod_path)\n",
      "            ^^^^^^^^^^^^^^^^^^^^^^^\n",
      "    File \"C:\\Users\\shubh\\anaconda3\\Lib\\importlib\\__init__.py\", line 90, in import_module\n",
      "      return _bootstrap._gcd_import(name[level:], package, level)\n",
      "             ^^^^^^^^^^^^^^^^^^^^^^^^^^^^^^^^^^^^^^^^^^^^^^^^^^^^\n",
      "    File \"<frozen importlib._bootstrap>\", line 1387, in _gcd_import\n",
      "    File \"<frozen importlib._bootstrap>\", line 1360, in _find_and_load\n",
      "    File \"<frozen importlib._bootstrap>\", line 1310, in _find_and_load_unlocked\n",
      "    File \"<frozen importlib._bootstrap>\", line 488, in _call_with_frames_removed\n",
      "    File \"<frozen importlib._bootstrap>\", line 1387, in _gcd_import\n",
      "    File \"<frozen importlib._bootstrap>\", line 1360, in _find_and_load\n",
      "    File \"<frozen importlib._bootstrap>\", line 1331, in _find_and_load_unlocked\n",
      "    File \"<frozen importlib._bootstrap>\", line 935, in _load_unlocked\n",
      "    File \"<frozen importlib._bootstrap_external>\", line 995, in exec_module\n",
      "    File \"<frozen importlib._bootstrap>\", line 488, in _call_with_frames_removed\n",
      "    File \"C:\\Users\\shubh\\AppData\\Local\\Temp\\pip-build-env-is6_4vzc\\overlay\\Lib\\site-packages\\setuptools\\__init__.py\", line 16, in <module>\n",
      "      import setuptools.version\n",
      "    File \"C:\\Users\\shubh\\AppData\\Local\\Temp\\pip-build-env-is6_4vzc\\overlay\\Lib\\site-packages\\setuptools\\version.py\", line 1, in <module>\n",
      "      import pkg_resources\n",
      "    File \"C:\\Users\\shubh\\AppData\\Local\\Temp\\pip-build-env-is6_4vzc\\overlay\\Lib\\site-packages\\pkg_resources\\__init__.py\", line 2172, in <module>\n",
      "      register_finder(pkgutil.ImpImporter, find_on_path)\n",
      "                      ^^^^^^^^^^^^^^^^^^^\n",
      "  AttributeError: module 'pkgutil' has no attribute 'ImpImporter'. Did you mean: 'zipimporter'?\n",
      "  [end of output]\n",
      "  \n",
      "  note: This error originates from a subprocess, and is likely not a problem with pip.\n",
      "error: subprocess-exited-with-error\n",
      "\n",
      "Getting requirements to build wheel did not run successfully.\n",
      "exit code: 1\n",
      "\n",
      "See above for output.\n",
      "\n",
      "note: This error originates from a subprocess, and is likely not a problem with pip.\n"
     ]
    }
   ],
   "source": [
    "!pip install numpy==1.24.3"
   ]
  },
  {
   "cell_type": "code",
   "execution_count": 10,
   "id": "0eb8112d-3459-4f88-8876-1da24d611a5d",
   "metadata": {},
   "outputs": [
    {
     "name": "stdout",
     "output_type": "stream",
     "text": [
      "1.26.4\n"
     ]
    }
   ],
   "source": [
    "import numpy\n",
    "print(numpy.__version__)"
   ]
  },
  {
   "cell_type": "code",
   "execution_count": 13,
   "id": "6950e6d0-d309-4e3a-92a3-1f0dbd5a70e9",
   "metadata": {},
   "outputs": [
    {
     "ename": "ImportError",
     "evalue": "\n\nIMPORTANT: PLEASE READ THIS FOR ADVICE ON HOW TO SOLVE THIS ISSUE!\n\nImporting the numpy C-extensions failed. This error can happen for\nmany reasons, often due to issues with your setup or how NumPy was\ninstalled.\n\nWe have compiled some common reasons and troubleshooting tips at:\n\n    https://numpy.org/devdocs/user/troubleshooting-importerror.html\n\nPlease note and check the following:\n\n  * The Python version is: Python3.12 from \"C:\\Users\\shubh\\anaconda3\\python.exe\"\n  * The NumPy version is: \"1.26.4\"\n\nand make sure that they are the versions you expect.\nPlease carefully study the documentation linked above for further help.\n\nOriginal error was: DLL load failed while importing _multiarray_umath: The specified module could not be found.\n",
     "output_type": "error",
     "traceback": [
      "\u001b[1;31m---------------------------------------------------------------------------\u001b[0m",
      "\u001b[1;31mImportError\u001b[0m                               Traceback (most recent call last)",
      "File \u001b[1;32m~\\anaconda3\\Lib\\site-packages\\numpy\\_core\\__init__.py:23\u001b[0m\n\u001b[0;32m     22\u001b[0m \u001b[38;5;28;01mtry\u001b[39;00m:\n\u001b[1;32m---> 23\u001b[0m     \u001b[38;5;28;01mfrom\u001b[39;00m \u001b[38;5;21;01m.\u001b[39;00m \u001b[38;5;28;01mimport\u001b[39;00m multiarray\n\u001b[0;32m     24\u001b[0m \u001b[38;5;28;01mexcept\u001b[39;00m \u001b[38;5;167;01mImportError\u001b[39;00m \u001b[38;5;28;01mas\u001b[39;00m exc:\n",
      "File \u001b[1;32m~\\anaconda3\\Lib\\site-packages\\numpy\\_core\\multiarray.py:10\u001b[0m\n\u001b[0;32m      9\u001b[0m \u001b[38;5;28;01mimport\u001b[39;00m \u001b[38;5;21;01mfunctools\u001b[39;00m\n\u001b[1;32m---> 10\u001b[0m \u001b[38;5;28;01mfrom\u001b[39;00m \u001b[38;5;21;01m.\u001b[39;00m \u001b[38;5;28;01mimport\u001b[39;00m overrides\n\u001b[0;32m     11\u001b[0m \u001b[38;5;28;01mfrom\u001b[39;00m \u001b[38;5;21;01m.\u001b[39;00m \u001b[38;5;28;01mimport\u001b[39;00m _multiarray_umath\n",
      "File \u001b[1;32m~\\anaconda3\\Lib\\site-packages\\numpy\\_core\\overrides.py:7\u001b[0m\n\u001b[0;32m      6\u001b[0m \u001b[38;5;28;01mfrom\u001b[39;00m \u001b[38;5;21;01m.\u001b[39;00m\u001b[38;5;21;01m.\u001b[39;00m\u001b[38;5;21;01m_utils\u001b[39;00m\u001b[38;5;21;01m.\u001b[39;00m\u001b[38;5;21;01m_inspect\u001b[39;00m \u001b[38;5;28;01mimport\u001b[39;00m getargspec\n\u001b[1;32m----> 7\u001b[0m \u001b[38;5;28;01mfrom\u001b[39;00m \u001b[38;5;21;01mnumpy\u001b[39;00m\u001b[38;5;21;01m.\u001b[39;00m\u001b[38;5;21;01m_core\u001b[39;00m\u001b[38;5;21;01m.\u001b[39;00m\u001b[38;5;21;01m_multiarray_umath\u001b[39;00m \u001b[38;5;28;01mimport\u001b[39;00m (\n\u001b[0;32m      8\u001b[0m     add_docstring,  _get_implementing_args, _ArrayFunctionDispatcher)\n\u001b[0;32m     11\u001b[0m ARRAY_FUNCTIONS \u001b[38;5;241m=\u001b[39m \u001b[38;5;28mset\u001b[39m()\n",
      "\u001b[1;31mImportError\u001b[0m: DLL load failed while importing _multiarray_umath: The specified module could not be found.",
      "\nDuring handling of the above exception, another exception occurred:\n",
      "\u001b[1;31mImportError\u001b[0m                               Traceback (most recent call last)",
      "File \u001b[1;32m~\\anaconda3\\Lib\\site-packages\\numpy\\_core\\__init__.py:49\u001b[0m\n\u001b[0;32m     25\u001b[0m     \u001b[38;5;28;01mimport\u001b[39;00m \u001b[38;5;21;01msys\u001b[39;00m\n\u001b[0;32m     26\u001b[0m     msg \u001b[38;5;241m=\u001b[39m \u001b[38;5;124m\"\"\"\u001b[39m\n\u001b[0;32m     27\u001b[0m \n\u001b[0;32m     28\u001b[0m \u001b[38;5;124mIMPORTANT: PLEASE READ THIS FOR ADVICE ON HOW TO SOLVE THIS ISSUE!\u001b[39m\n\u001b[1;32m   (...)\u001b[0m\n\u001b[0;32m     47\u001b[0m \u001b[38;5;124m\"\"\"\u001b[39m \u001b[38;5;241m%\u001b[39m (sys\u001b[38;5;241m.\u001b[39mversion_info[\u001b[38;5;241m0\u001b[39m], sys\u001b[38;5;241m.\u001b[39mversion_info[\u001b[38;5;241m1\u001b[39m], sys\u001b[38;5;241m.\u001b[39mexecutable,\n\u001b[0;32m     48\u001b[0m         __version__, exc)\n\u001b[1;32m---> 49\u001b[0m     \u001b[38;5;28;01mraise\u001b[39;00m \u001b[38;5;167;01mImportError\u001b[39;00m(msg)\n\u001b[0;32m     50\u001b[0m \u001b[38;5;28;01mfinally\u001b[39;00m:\n\u001b[0;32m     51\u001b[0m     \u001b[38;5;28;01mfor\u001b[39;00m envkey \u001b[38;5;129;01min\u001b[39;00m env_added:\n",
      "\u001b[1;31mImportError\u001b[0m: \n\nIMPORTANT: PLEASE READ THIS FOR ADVICE ON HOW TO SOLVE THIS ISSUE!\n\nImporting the numpy C-extensions failed. This error can happen for\nmany reasons, often due to issues with your setup or how NumPy was\ninstalled.\n\nWe have compiled some common reasons and troubleshooting tips at:\n\n    https://numpy.org/devdocs/user/troubleshooting-importerror.html\n\nPlease note and check the following:\n\n  * The Python version is: Python3.12 from \"C:\\Users\\shubh\\anaconda3\\python.exe\"\n  * The NumPy version is: \"1.26.4\"\n\nand make sure that they are the versions you expect.\nPlease carefully study the documentation linked above for further help.\n\nOriginal error was: DLL load failed while importing _multiarray_umath: The specified module could not be found.\n"
     ]
    },
    {
     "ename": "ImportError",
     "evalue": "numpy._core.multiarray failed to import",
     "output_type": "error",
     "traceback": [
      "\u001b[1;31m---------------------------------------------------------------------------\u001b[0m",
      "\u001b[1;31mImportError\u001b[0m                               Traceback (most recent call last)",
      "Cell \u001b[1;32mIn[13], line 1\u001b[0m\n\u001b[1;32m----> 1\u001b[0m \u001b[38;5;28;01mimport\u001b[39;00m \u001b[38;5;21;01mcv2\u001b[39;00m\n\u001b[0;32m      2\u001b[0m \u001b[38;5;28mprint\u001b[39m(cv2\u001b[38;5;241m.\u001b[39m_version__)\n",
      "\u001b[1;31mImportError\u001b[0m: numpy._core.multiarray failed to import"
     ]
    }
   ],
   "source": [
    "import cv2\n",
    "print(cv2._version__)"
   ]
  },
  {
   "cell_type": "code",
   "execution_count": null,
   "id": "c98daf41-0c7f-49fb-acf4-70e9a3b60356",
   "metadata": {},
   "outputs": [],
   "source": []
  }
 ],
 "metadata": {
  "kernelspec": {
   "display_name": "Python 3 (ipykernel)",
   "language": "python",
   "name": "python3"
  },
  "language_info": {
   "codemirror_mode": {
    "name": "ipython",
    "version": 3
   },
   "file_extension": ".py",
   "mimetype": "text/x-python",
   "name": "python",
   "nbconvert_exporter": "python",
   "pygments_lexer": "ipython3",
   "version": "3.12.7"
  }
 },
 "nbformat": 4,
 "nbformat_minor": 5
}
